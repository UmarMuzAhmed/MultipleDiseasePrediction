{
  "nbformat": 4,
  "nbformat_minor": 0,
  "metadata": {
    "colab": {
      "provenance": []
    },
    "kernelspec": {
      "name": "python3",
      "display_name": "Python 3"
    },
    "language_info": {
      "name": "python"
    }
  },
  "cells": [
    {
      "cell_type": "markdown",
      "source": [
        "IMPORTING LIBRARIES"
      ],
      "metadata": {
        "id": "foydryAk7Rpv"
      }
    },
    {
      "cell_type": "code",
      "execution_count": 18,
      "metadata": {
        "id": "srVojkjy3sGS"
      },
      "outputs": [],
      "source": [
        "import numpy as np\n",
        "import pandas as pd\n",
        "from sklearn.linear_model import LogisticRegression\n",
        "from sklearn.model_selection import train_test_split\n",
        "from sklearn.metrics import accuracy_score"
      ]
    },
    {
      "cell_type": "code",
      "source": [
        "jaundice_data=pd.read_csv(\"/content/JaundiceDataSet.csv\")\n",
        "jaundice_data.head()"
      ],
      "metadata": {
        "colab": {
          "base_uri": "https://localhost:8080/",
          "height": 206
        },
        "id": "X3wAE2Mj7Z8c",
        "outputId": "e55e095a-17be-4a07-b7ae-943f7e5d2da6"
      },
      "execution_count": 19,
      "outputs": [
        {
          "output_type": "execute_result",
          "data": {
            "text/plain": [
              "   id                    name  gender  age  fever  chills  abdominal_pain  \\\n",
              "0   1         Vincent Tamblyn    Male   68      1       1               0   \n",
              "1   2  Mariquilla O'Duilleain  Female    3      1       1               0   \n",
              "2   3          Lia Stollwerck  Female   12      1       0               0   \n",
              "3   4           Larisa Kovnot  Female    6      1       1               1   \n",
              "4   5            Brett Livsey    Male   20      1       1               1   \n",
              "\n",
              "   yellowing_of_skin  yellowing_of_eyes  dark_colored_urine  target  \n",
              "0                  0                  0                   0       0  \n",
              "1                  0                  1                   1       1  \n",
              "2                  1                  1                   0       1  \n",
              "3                  1                  1                   0       1  \n",
              "4                  0                  1                   0       0  "
            ],
            "text/html": [
              "\n",
              "  <div id=\"df-aad2b1fb-9023-430c-86d4-0fd7f93f4857\">\n",
              "    <div class=\"colab-df-container\">\n",
              "      <div>\n",
              "<style scoped>\n",
              "    .dataframe tbody tr th:only-of-type {\n",
              "        vertical-align: middle;\n",
              "    }\n",
              "\n",
              "    .dataframe tbody tr th {\n",
              "        vertical-align: top;\n",
              "    }\n",
              "\n",
              "    .dataframe thead th {\n",
              "        text-align: right;\n",
              "    }\n",
              "</style>\n",
              "<table border=\"1\" class=\"dataframe\">\n",
              "  <thead>\n",
              "    <tr style=\"text-align: right;\">\n",
              "      <th></th>\n",
              "      <th>id</th>\n",
              "      <th>name</th>\n",
              "      <th>gender</th>\n",
              "      <th>age</th>\n",
              "      <th>fever</th>\n",
              "      <th>chills</th>\n",
              "      <th>abdominal_pain</th>\n",
              "      <th>yellowing_of_skin</th>\n",
              "      <th>yellowing_of_eyes</th>\n",
              "      <th>dark_colored_urine</th>\n",
              "      <th>target</th>\n",
              "    </tr>\n",
              "  </thead>\n",
              "  <tbody>\n",
              "    <tr>\n",
              "      <th>0</th>\n",
              "      <td>1</td>\n",
              "      <td>Vincent Tamblyn</td>\n",
              "      <td>Male</td>\n",
              "      <td>68</td>\n",
              "      <td>1</td>\n",
              "      <td>1</td>\n",
              "      <td>0</td>\n",
              "      <td>0</td>\n",
              "      <td>0</td>\n",
              "      <td>0</td>\n",
              "      <td>0</td>\n",
              "    </tr>\n",
              "    <tr>\n",
              "      <th>1</th>\n",
              "      <td>2</td>\n",
              "      <td>Mariquilla O'Duilleain</td>\n",
              "      <td>Female</td>\n",
              "      <td>3</td>\n",
              "      <td>1</td>\n",
              "      <td>1</td>\n",
              "      <td>0</td>\n",
              "      <td>0</td>\n",
              "      <td>1</td>\n",
              "      <td>1</td>\n",
              "      <td>1</td>\n",
              "    </tr>\n",
              "    <tr>\n",
              "      <th>2</th>\n",
              "      <td>3</td>\n",
              "      <td>Lia Stollwerck</td>\n",
              "      <td>Female</td>\n",
              "      <td>12</td>\n",
              "      <td>1</td>\n",
              "      <td>0</td>\n",
              "      <td>0</td>\n",
              "      <td>1</td>\n",
              "      <td>1</td>\n",
              "      <td>0</td>\n",
              "      <td>1</td>\n",
              "    </tr>\n",
              "    <tr>\n",
              "      <th>3</th>\n",
              "      <td>4</td>\n",
              "      <td>Larisa Kovnot</td>\n",
              "      <td>Female</td>\n",
              "      <td>6</td>\n",
              "      <td>1</td>\n",
              "      <td>1</td>\n",
              "      <td>1</td>\n",
              "      <td>1</td>\n",
              "      <td>1</td>\n",
              "      <td>0</td>\n",
              "      <td>1</td>\n",
              "    </tr>\n",
              "    <tr>\n",
              "      <th>4</th>\n",
              "      <td>5</td>\n",
              "      <td>Brett Livsey</td>\n",
              "      <td>Male</td>\n",
              "      <td>20</td>\n",
              "      <td>1</td>\n",
              "      <td>1</td>\n",
              "      <td>1</td>\n",
              "      <td>0</td>\n",
              "      <td>1</td>\n",
              "      <td>0</td>\n",
              "      <td>0</td>\n",
              "    </tr>\n",
              "  </tbody>\n",
              "</table>\n",
              "</div>\n",
              "      <button class=\"colab-df-convert\" onclick=\"convertToInteractive('df-aad2b1fb-9023-430c-86d4-0fd7f93f4857')\"\n",
              "              title=\"Convert this dataframe to an interactive table.\"\n",
              "              style=\"display:none;\">\n",
              "        \n",
              "  <svg xmlns=\"http://www.w3.org/2000/svg\" height=\"24px\"viewBox=\"0 0 24 24\"\n",
              "       width=\"24px\">\n",
              "    <path d=\"M0 0h24v24H0V0z\" fill=\"none\"/>\n",
              "    <path d=\"M18.56 5.44l.94 2.06.94-2.06 2.06-.94-2.06-.94-.94-2.06-.94 2.06-2.06.94zm-11 1L8.5 8.5l.94-2.06 2.06-.94-2.06-.94L8.5 2.5l-.94 2.06-2.06.94zm10 10l.94 2.06.94-2.06 2.06-.94-2.06-.94-.94-2.06-.94 2.06-2.06.94z\"/><path d=\"M17.41 7.96l-1.37-1.37c-.4-.4-.92-.59-1.43-.59-.52 0-1.04.2-1.43.59L10.3 9.45l-7.72 7.72c-.78.78-.78 2.05 0 2.83L4 21.41c.39.39.9.59 1.41.59.51 0 1.02-.2 1.41-.59l7.78-7.78 2.81-2.81c.8-.78.8-2.07 0-2.86zM5.41 20L4 18.59l7.72-7.72 1.47 1.35L5.41 20z\"/>\n",
              "  </svg>\n",
              "      </button>\n",
              "      \n",
              "  <style>\n",
              "    .colab-df-container {\n",
              "      display:flex;\n",
              "      flex-wrap:wrap;\n",
              "      gap: 12px;\n",
              "    }\n",
              "\n",
              "    .colab-df-convert {\n",
              "      background-color: #E8F0FE;\n",
              "      border: none;\n",
              "      border-radius: 50%;\n",
              "      cursor: pointer;\n",
              "      display: none;\n",
              "      fill: #1967D2;\n",
              "      height: 32px;\n",
              "      padding: 0 0 0 0;\n",
              "      width: 32px;\n",
              "    }\n",
              "\n",
              "    .colab-df-convert:hover {\n",
              "      background-color: #E2EBFA;\n",
              "      box-shadow: 0px 1px 2px rgba(60, 64, 67, 0.3), 0px 1px 3px 1px rgba(60, 64, 67, 0.15);\n",
              "      fill: #174EA6;\n",
              "    }\n",
              "\n",
              "    [theme=dark] .colab-df-convert {\n",
              "      background-color: #3B4455;\n",
              "      fill: #D2E3FC;\n",
              "    }\n",
              "\n",
              "    [theme=dark] .colab-df-convert:hover {\n",
              "      background-color: #434B5C;\n",
              "      box-shadow: 0px 1px 3px 1px rgba(0, 0, 0, 0.15);\n",
              "      filter: drop-shadow(0px 1px 2px rgba(0, 0, 0, 0.3));\n",
              "      fill: #FFFFFF;\n",
              "    }\n",
              "  </style>\n",
              "\n",
              "      <script>\n",
              "        const buttonEl =\n",
              "          document.querySelector('#df-aad2b1fb-9023-430c-86d4-0fd7f93f4857 button.colab-df-convert');\n",
              "        buttonEl.style.display =\n",
              "          google.colab.kernel.accessAllowed ? 'block' : 'none';\n",
              "\n",
              "        async function convertToInteractive(key) {\n",
              "          const element = document.querySelector('#df-aad2b1fb-9023-430c-86d4-0fd7f93f4857');\n",
              "          const dataTable =\n",
              "            await google.colab.kernel.invokeFunction('convertToInteractive',\n",
              "                                                     [key], {});\n",
              "          if (!dataTable) return;\n",
              "\n",
              "          const docLinkHtml = 'Like what you see? Visit the ' +\n",
              "            '<a target=\"_blank\" href=https://colab.research.google.com/notebooks/data_table.ipynb>data table notebook</a>'\n",
              "            + ' to learn more about interactive tables.';\n",
              "          element.innerHTML = '';\n",
              "          dataTable['output_type'] = 'display_data';\n",
              "          await google.colab.output.renderOutput(dataTable, element);\n",
              "          const docLink = document.createElement('div');\n",
              "          docLink.innerHTML = docLinkHtml;\n",
              "          element.appendChild(docLink);\n",
              "        }\n",
              "      </script>\n",
              "    </div>\n",
              "  </div>\n",
              "  "
            ]
          },
          "metadata": {},
          "execution_count": 19
        }
      ]
    },
    {
      "cell_type": "code",
      "source": [
        "jaundice_data.shape"
      ],
      "metadata": {
        "id": "-RhtTVV072d4",
        "colab": {
          "base_uri": "https://localhost:8080/"
        },
        "outputId": "a4686a08-385e-4b7f-82a5-aab8ac474c9a"
      },
      "execution_count": 20,
      "outputs": [
        {
          "output_type": "execute_result",
          "data": {
            "text/plain": [
              "(250, 11)"
            ]
          },
          "metadata": {},
          "execution_count": 20
        }
      ]
    },
    {
      "cell_type": "code",
      "source": [
        "jaundice_data.info()"
      ],
      "metadata": {
        "id": "pwPQJlH28Hmh",
        "colab": {
          "base_uri": "https://localhost:8080/"
        },
        "outputId": "9921ff97-9335-4a01-ba4e-9d88458896e5"
      },
      "execution_count": 21,
      "outputs": [
        {
          "output_type": "stream",
          "name": "stdout",
          "text": [
            "<class 'pandas.core.frame.DataFrame'>\n",
            "RangeIndex: 250 entries, 0 to 249\n",
            "Data columns (total 11 columns):\n",
            " #   Column              Non-Null Count  Dtype \n",
            "---  ------              --------------  ----- \n",
            " 0   id                  250 non-null    int64 \n",
            " 1   name                250 non-null    object\n",
            " 2   gender              250 non-null    object\n",
            " 3   age                 250 non-null    int64 \n",
            " 4   fever               250 non-null    int64 \n",
            " 5   chills              250 non-null    int64 \n",
            " 6   abdominal_pain      250 non-null    int64 \n",
            " 7   yellowing_of_skin   250 non-null    int64 \n",
            " 8   yellowing_of_eyes   250 non-null    int64 \n",
            " 9   dark_colored_urine  250 non-null    int64 \n",
            " 10  target              250 non-null    int64 \n",
            "dtypes: int64(9), object(2)\n",
            "memory usage: 21.6+ KB\n"
          ]
        }
      ]
    },
    {
      "cell_type": "markdown",
      "source": [
        "CHECKING FOR MISSING VALUES"
      ],
      "metadata": {
        "id": "GW6Qghie8h6R"
      }
    },
    {
      "cell_type": "code",
      "source": [
        "jaundice_data.isnull().sum()"
      ],
      "metadata": {
        "id": "-Eo8haHY8ZfT",
        "colab": {
          "base_uri": "https://localhost:8080/"
        },
        "outputId": "66c20b59-a119-45b0-eceb-b5935baf1076"
      },
      "execution_count": 22,
      "outputs": [
        {
          "output_type": "execute_result",
          "data": {
            "text/plain": [
              "id                    0\n",
              "name                  0\n",
              "gender                0\n",
              "age                   0\n",
              "fever                 0\n",
              "chills                0\n",
              "abdominal_pain        0\n",
              "yellowing_of_skin     0\n",
              "yellowing_of_eyes     0\n",
              "dark_colored_urine    0\n",
              "target                0\n",
              "dtype: int64"
            ]
          },
          "metadata": {},
          "execution_count": 22
        }
      ]
    },
    {
      "cell_type": "markdown",
      "source": [
        "CHECKING THE TARGET VALUES"
      ],
      "metadata": {
        "id": "-Hn7bSHh9Pmn"
      }
    },
    {
      "cell_type": "code",
      "source": [
        "jaundice_data['target'].value_counts()"
      ],
      "metadata": {
        "id": "prcWfpYD82u-",
        "colab": {
          "base_uri": "https://localhost:8080/"
        },
        "outputId": "d401a173-4c9b-4422-c5c1-b33c9195c148"
      },
      "execution_count": 23,
      "outputs": [
        {
          "output_type": "execute_result",
          "data": {
            "text/plain": [
              "1    134\n",
              "0    116\n",
              "Name: target, dtype: int64"
            ]
          },
          "metadata": {},
          "execution_count": 23
        }
      ]
    },
    {
      "cell_type": "markdown",
      "source": [
        "1-->HAVE JAUNDICE\n",
        "0-->DOESNT HAVE JAUNDICE"
      ],
      "metadata": {
        "id": "mEV-cUQz9031"
      }
    },
    {
      "cell_type": "code",
      "source": [
        "X=jaundice_data.drop(['target','name','gender','id'],axis=1)\n",
        "Y=jaundice_data[\"target\"]\n",
        "print(X)"
      ],
      "metadata": {
        "id": "X-CYmKN1-CL_",
        "colab": {
          "base_uri": "https://localhost:8080/"
        },
        "outputId": "47e10c82-c2b6-46a4-9cb9-93906fddd4a7"
      },
      "execution_count": 24,
      "outputs": [
        {
          "output_type": "stream",
          "name": "stdout",
          "text": [
            "     age  fever  chills  abdominal_pain  yellowing_of_skin  yellowing_of_eyes  \\\n",
            "0     68      1       1               0                  0                  0   \n",
            "1      3      1       1               0                  0                  1   \n",
            "2     12      1       0               0                  1                  1   \n",
            "3      6      1       1               1                  1                  1   \n",
            "4     20      1       1               1                  0                  1   \n",
            "..   ...    ...     ...             ...                ...                ...   \n",
            "245    6      1       0               0                  0                  1   \n",
            "246    4      1       0               1                  0                  1   \n",
            "247   70      1       1               0                  1                  0   \n",
            "248   47      1       1               1                  1                  0   \n",
            "249   10      1       1               1                  0                  0   \n",
            "\n",
            "     dark_colored_urine  \n",
            "0                     0  \n",
            "1                     1  \n",
            "2                     0  \n",
            "3                     0  \n",
            "4                     0  \n",
            "..                  ...  \n",
            "245                   1  \n",
            "246                   0  \n",
            "247                   0  \n",
            "248                   0  \n",
            "249                   0  \n",
            "\n",
            "[250 rows x 7 columns]\n"
          ]
        }
      ]
    },
    {
      "cell_type": "code",
      "source": [
        "X_train,X_test,Y_train,Y_test=train_test_split(X,Y,test_size=0.2,stratify=Y,random_state=2)\n",
        "print(Y_train)"
      ],
      "metadata": {
        "id": "xB16DtpN-uhe",
        "colab": {
          "base_uri": "https://localhost:8080/"
        },
        "outputId": "e3d07272-e2c3-44d0-b75f-a6ac4817a6f8"
      },
      "execution_count": 25,
      "outputs": [
        {
          "output_type": "stream",
          "name": "stdout",
          "text": [
            "99     0\n",
            "161    1\n",
            "115    1\n",
            "78     1\n",
            "213    1\n",
            "      ..\n",
            "154    1\n",
            "190    0\n",
            "112    1\n",
            "1      1\n",
            "15     1\n",
            "Name: target, Length: 200, dtype: int64\n"
          ]
        }
      ]
    },
    {
      "cell_type": "code",
      "source": [
        "model=LogisticRegression()"
      ],
      "metadata": {
        "id": "DV6hra9n_s7X"
      },
      "execution_count": 26,
      "outputs": []
    },
    {
      "cell_type": "code",
      "source": [
        "model.fit(X_train,Y_train)"
      ],
      "metadata": {
        "id": "A-B7I_mkAmsJ",
        "colab": {
          "base_uri": "https://localhost:8080/"
        },
        "outputId": "60b5e3a1-6a31-402f-cb86-fffef57b7093"
      },
      "execution_count": 27,
      "outputs": [
        {
          "output_type": "execute_result",
          "data": {
            "text/plain": [
              "LogisticRegression()"
            ]
          },
          "metadata": {},
          "execution_count": 27
        }
      ]
    },
    {
      "cell_type": "markdown",
      "source": [
        "ACCURACY"
      ],
      "metadata": {
        "id": "RS_Dtgh0FgUy"
      }
    },
    {
      "cell_type": "code",
      "source": [
        "X_train_prediction=model.predict(X_train)\n",
        "X_train_accuracy=accuracy_score(X_train_prediction,Y_train)"
      ],
      "metadata": {
        "id": "TBeTtSFLFkHO"
      },
      "execution_count": 28,
      "outputs": []
    },
    {
      "cell_type": "code",
      "source": [
        "X_test_prediction=model.predict(X_test)\n",
        "X_test_accuracy=accuracy_score(X_test_prediction,Y_test)"
      ],
      "metadata": {
        "id": "CvQGhbqdGSJy"
      },
      "execution_count": 29,
      "outputs": []
    },
    {
      "cell_type": "code",
      "source": [
        "input_data=()\n",
        "input_data_as_array=np.asarray(input_data)\n",
        "input_data_reshaped=input_data_as_array.reshape(1,-1)\n",
        "prediction=model.predict(input_data_reshaped)\n",
        "print(prediction)\n",
        "\n",
        "if (prediction[0]==1):\n",
        "  print(\"YOU HAVE JAUNDICE\")\n",
        "else:\n",
        "  print(\"YOU DON'T HAVE JAUNDICE\")\n"
      ],
      "metadata": {
        "id": "PF1we0NvIDQy",
        "colab": {
          "base_uri": "https://localhost:8080/"
        },
        "outputId": "528a5477-8a35-4f5f-9dd6-633c939fe6c1"
      },
      "execution_count": 33,
      "outputs": [
        {
          "output_type": "stream",
          "name": "stdout",
          "text": [
            "[1]\n",
            "YOU HAVE JAUNDICE\n"
          ]
        },
        {
          "output_type": "stream",
          "name": "stderr",
          "text": [
            "/usr/local/lib/python3.8/dist-packages/sklearn/base.py:450: UserWarning: X does not have valid feature names, but LogisticRegression was fitted with feature names\n",
            "  warnings.warn(\n"
          ]
        }
      ]
    }
  ]
}